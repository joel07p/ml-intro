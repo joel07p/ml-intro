{
  "cells": [
    {
      "cell_type": "markdown",
      "metadata": {
        "id": "LQF_mge0CsmG"
      },
      "source": [
        "# Basic Programming in Python\n",
        "Presented at [ISMRM 2021](https://www.ismrm.org/21m/) by [Saige Rutherford](https://www.beingsaige.com/)."
      ]
    },
    {
      "cell_type": "markdown",
      "metadata": {
        "id": "fgAuscqMCsmI"
      },
      "source": [
        "This notebook presents a very brief overview of the Python programming language, with a particular slant on tools and applications relevant for data science. It's assumed that the reader has at least a little bit of prior programming experience; the emphasis is primarily on (a) demonstrating how basic things are done in Python, and (b) reviewing the many strengths of Python (and okay, also a few weaknesses). This notebook was forked from [Tal Yarkoni's teaching materials](https://github.com/neurohackademy/introduction-to-python), and has been adapted for this course. Tal's talk is available on [Youtube](https://www.youtube.com/watch?v=d1QZU-ZPOm0) and is 1 hour long if you are looking for a more in-depth walk through video of the code."
      ]
    },
    {
      "cell_type": "markdown",
      "metadata": {
        "id": "5llukYAwCsmI"
      },
      "source": [
        "## Install Instructions:\n",
        "\n",
        "Windows, Mac, Linux install options for setting up python on your own computer can be found [here](https://python.land/installing-python).\n",
        "\n",
        "In this tutorial we will not be using a python install on our own computer, because we are not in-person and therefore I cannot help you troubleshoot individual errors that can come up when installing on your own machine. We will be using python in the browser via [Google Colab](https://colab.research.google.com/notebooks/intro.ipynb). Hopefully you have followed the instructions for launching this notebook and are reading this message in Google Colab!"
      ]
    },
    {
      "cell_type": "markdown",
      "metadata": {
        "id": "ImmtAEUNCsmI"
      },
      "source": [
        "## What is Python?\n",
        "\n",
        "* Python is a programming language\n",
        "* Specifically, it's a widely used, very flexible, high-level, general-purpose, dynamic programming language\n",
        "* That's a mouthful! Let's explore each of these points in more detail..."
      ]
    },
    {
      "cell_type": "markdown",
      "metadata": {
        "id": "l7esexYgCsmI"
      },
      "source": [
        "### Widely-used\n",
        "* Python is the fastest-growing major programming language\n",
        "* Top 3 overall (with JavaScript, Java) [source of these rankings](https://redmonk.com/sogrady/2021/03/01/language-rankings-1-21/)."
      ]
    },
    {
      "cell_type": "markdown",
      "metadata": {
        "id": "XdnLKLIACsmI"
      },
      "source": [
        "<img src=\"https://redmonk.com/sogrady/files/2021/03/lang.rank_.0121.wm_.png\" width=\"800px\" style=\"margin-bottom: 10px;\">"
      ]
    },
    {
      "cell_type": "markdown",
      "metadata": {
        "id": "bkj2ZnJDCsmI"
      },
      "source": [
        "### High-level\n",
        "Python features a high level of abstraction\n",
        "* Many operations that are explicit in lower-level languages (e.g., C/C++) are implicit in Python\n",
        "* E.g., memory allocation, garbage collection, etc.\n",
        "* Python lets you write code faster"
      ]
    },
    {
      "cell_type": "markdown",
      "metadata": {
        "id": "sBmjobh-CsmJ"
      },
      "source": [
        "#### File reading in Java\n",
        "```java\n",
        "import java.io.BufferedReader;\n",
        "import java.io.FileReader;\n",
        "import java.io.IOException;\n",
        "\n",
        "public class ReadFile {\n",
        "    public static void main(String[] args) throws IOException{\n",
        "        String fileContents = readEntireFile(\"./foo.txt\");\n",
        "    }\n",
        "\n",
        "    private static String readEntireFile(String filename) throws IOException {\n",
        "        FileReader in = new FileReader(filename);\n",
        "        StringBuilder contents = new StringBuilder();\n",
        "        char[] buffer = new char[4096];\n",
        "        int read = 0;\n",
        "        do {\n",
        "            contents.append(buffer, 0, read);\n",
        "            read = in.read(buffer);\n",
        "        } while (read >= 0);\n",
        "        return contents.toString();\n",
        "    }\n",
        "}\n",
        "```"
      ]
    },
    {
      "cell_type": "markdown",
      "metadata": {
        "id": "VIZBVKQyCsmJ"
      },
      "source": [
        "#### File-reading in Python\n",
        "```python\n",
        "open(filename).read()\n",
        "```"
      ]
    },
    {
      "cell_type": "markdown",
      "metadata": {
        "id": "rPshmjHsCsmJ"
      },
      "source": [
        "### General-purpose\n",
        "You can do almost everything in Python\n",
        "* Comprehensive standard library\n",
        "* Enormous ecosystem of third-party packages\n",
        "* Widely used in many areas of software development (web, dev-ops, data science, etc.)"
      ]
    },
    {
      "cell_type": "markdown",
      "metadata": {
        "id": "tedQVzgFCsmJ"
      },
      "source": [
        "### Dynamic\n",
        "Code is interpreted at run-time\n",
        "* No compilation process*; code is read line-by-line when executed\n",
        "* Eliminates delays between development and execution\n",
        "* The downside: poorer performance compared to compiled languages"
      ]
    },
    {
      "cell_type": "markdown",
      "metadata": {
        "id": "8edoGNIaCsmJ"
      },
      "source": [
        "## Variables and data types\n",
        "* In Python, we declare a variable by assigning it a value with the = sign\n",
        "    * Variables are pointers, not data stores!\n",
        "* Python supports a variety of data types and structures:\n",
        "    * booleans (True or False)\n",
        "    * numbers (ints, floats, etc.)\n",
        "    * strings\n",
        "    * lists\n",
        "    * dictionaries\n",
        "    * many others!\n",
        "* We don't specify a variable's type at assignment—Python uses [duck typing](https://en.wikipedia.org/wiki/Duck_typing)"
      ]
    },
    {
      "cell_type": "markdown",
      "metadata": {
        "id": "sgUUtswfCsmJ"
      },
      "source": [
        "### Basic types"
      ]
    },
    {
      "cell_type": "markdown",
      "metadata": {
        "id": "m8sSoAeoCsmJ"
      },
      "source": [
        "Variable naming convention: use lower case, separate words with an underscore"
      ]
    },
    {
      "cell_type": "code",
      "execution_count": null,
      "metadata": {
        "id": "jKwL174jCsmJ"
      },
      "outputs": [],
      "source": [
        "# An integer. Notice the variable naming convention.\n",
        "age_in_years = 28"
      ]
    },
    {
      "cell_type": "code",
      "execution_count": null,
      "metadata": {
        "id": "Xtuu5_v4CsmK"
      },
      "outputs": [],
      "source": [
        "# A float\n",
        "almost_pi = 3.14"
      ]
    },
    {
      "cell_type": "code",
      "execution_count": null,
      "metadata": {
        "id": "ciqBVeDjCsmK"
      },
      "outputs": [],
      "source": [
        "# A string\n",
        "proton = \"P is for proton\""
      ]
    },
    {
      "cell_type": "code",
      "execution_count": null,
      "metadata": {
        "id": "Y5jzOsWGCsmK"
      },
      "outputs": [],
      "source": [
        "# A boolean takes on only the values True or False\n",
        "enjoying_tutorial = True"
      ]
    },
    {
      "cell_type": "markdown",
      "metadata": {
        "id": "Ml0AIC4gCsmK"
      },
      "source": [
        "### Data structures\n",
        "* Most code requires more complex structures built out of basic data types\n",
        "* Python provides built-in support for many common structures\n",
        "    * Many additional structures can be found in the [collections](https://docs.python.org/3/library/collections.html) module"
      ]
    },
    {
      "cell_type": "markdown",
      "metadata": {
        "id": "8yY7n-sQCsmK"
      },
      "source": [
        "#### Lists\n",
        "* An ordered, heterogeneous collection of objects\n",
        "* List elements can be accessed by position\n",
        "* The syntax for creating a list is square brackets --> list = []\n",
        "    * Technically you can also declare a list like this: list = list() --> but the square brackets method is more common"
      ]
    },
    {
      "cell_type": "code",
      "execution_count": null,
      "metadata": {
        "id": "nndJD7pJCsmK"
      },
      "outputs": [],
      "source": [
        "random_stuff = [] # Fill the list with stuff!"
      ]
    },
    {
      "cell_type": "code",
      "execution_count": null,
      "metadata": {
        "id": "apYLQcRsCsmK"
      },
      "outputs": [],
      "source": [
        "# We index lists by numerical position--starting at 0\n"
      ]
    },
    {
      "cell_type": "code",
      "execution_count": null,
      "metadata": {
        "id": "ytwCqQaGCsmK"
      },
      "outputs": [],
      "source": [
        "# We can also slice lists\n"
      ]
    },
    {
      "cell_type": "code",
      "execution_count": null,
      "metadata": {
        "id": "1q4OBgqBCsmK"
      },
      "outputs": [],
      "source": [
        "# Append an element\n"
      ]
    },
    {
      "cell_type": "markdown",
      "metadata": {
        "id": "hQNzp-7oCsmK"
      },
      "source": [
        "#### Tuples\n",
        "* Very similar to lists\n",
        "* Key difference: tuples are *immutable*\n",
        "    * They can't be modified once they're created\n",
        "* Syntax for declaring a tuple is with parentheses --> my_tuple = ()"
      ]
    },
    {
      "cell_type": "code",
      "execution_count": null,
      "metadata": {
        "id": "5N1ud6t2CsmK"
      },
      "outputs": [],
      "source": [
        "random_tuple = ()"
      ]
    },
    {
      "cell_type": "markdown",
      "metadata": {
        "id": "xJpI0n3wCsmK"
      },
      "source": [
        "#### Dictionaries (dict)\n",
        "* Unordered collection of key-to-value pairs\n",
        "* dict elements can be accessed by key, but *not* by position\n",
        "* Syntax for creating a dictionary is curly brackets --> my_dictionary = {}\n",
        "    * you could declare it like this: my_dictionary = dict() --> but again, the curly brackets method is more common"
      ]
    },
    {
      "cell_type": "code",
      "execution_count": null,
      "metadata": {
        "id": "ebXWIiaXCsmK"
      },
      "outputs": [],
      "source": [
        "# A dictionary is an unordered mapping from keys to values\n",
        "fruit_prices = {\n",
        "    'apple': 0.65,\n",
        "    'mango': 1.50,\n",
        "    'strawberry': '$3/lb',\n",
        "    'durian': 'unavailable'\n",
        "}"
      ]
    },
    {
      "cell_type": "code",
      "execution_count": null,
      "metadata": {
        "id": "FacFqYI_CsmK"
      },
      "outputs": [],
      "source": [
        "# What's the price of a mango?\n"
      ]
    },
    {
      "cell_type": "code",
      "execution_count": null,
      "metadata": {
        "id": "yZtdDqmqCsmK"
      },
      "outputs": [],
      "source": [
        "# Add a new entry for pears\n"
      ]
    },
    {
      "cell_type": "markdown",
      "metadata": {
        "id": "t_rOxA5uCsmK"
      },
      "source": [
        "### Everything is an object in Python\n",
        "* All of these 'data types' are actually just objects in Python\n",
        "* *Everything* is an object in Python!\n",
        "* The operations you can perform with a variable depend on the object's definition\n",
        "* E.g., the multiplication operator * is defined for some objects but not others"
      ]
    },
    {
      "cell_type": "code",
      "execution_count": null,
      "metadata": {
        "id": "Nt94lLy4CsmK"
      },
      "outputs": [],
      "source": [
        "# Multiply an int by 2"
      ]
    },
    {
      "cell_type": "code",
      "execution_count": null,
      "metadata": {
        "id": "dJ8GUvlqCsmK"
      },
      "outputs": [],
      "source": [
        "# Multiply a float by 2"
      ]
    },
    {
      "cell_type": "code",
      "execution_count": null,
      "metadata": {
        "id": "qWmdyqxpCsmK"
      },
      "outputs": [],
      "source": [
        "# What about a string?"
      ]
    },
    {
      "cell_type": "code",
      "execution_count": null,
      "metadata": {
        "id": "MsFNcTIXCsmK"
      },
      "outputs": [],
      "source": [
        "# A list?"
      ]
    },
    {
      "cell_type": "code",
      "execution_count": null,
      "metadata": {
        "scrolled": true,
        "id": "B6I1Y88cCsmK"
      },
      "outputs": [],
      "source": [
        "# A dictionary?"
      ]
    },
    {
      "cell_type": "markdown",
      "metadata": {
        "id": "-avNWs-hCsmK"
      },
      "source": [
        "## Control structures\n",
        "* Language features that allow us to control how code is executed\n",
        "* Iteration (e.g., for-loops, while statements...)\n",
        "* Conditionals (if-then-else statements)\n",
        "* [Etc](https://docs.python.org/3/tutorial/controlflow.html)..."
      ]
    },
    {
      "cell_type": "code",
      "execution_count": null,
      "metadata": {
        "id": "DUfgsxtXCsmK"
      },
      "outputs": [],
      "source": [
        "# Write an if-elif-else statement..."
      ]
    },
    {
      "cell_type": "code",
      "execution_count": null,
      "metadata": {
        "id": "DRjcD21xCsmK"
      },
      "outputs": [],
      "source": [
        "# Loop over the random_stuff list we created earlier and print each value.\n",
        "# Alternatively, loop over integers and index into the random_stuff list."
      ]
    },
    {
      "cell_type": "code",
      "execution_count": null,
      "metadata": {
        "id": "lh9Dil4uCsmL"
      },
      "outputs": [],
      "source": [
        "# Now do the same thing as above, but with a list comprehension"
      ]
    },
    {
      "cell_type": "markdown",
      "metadata": {
        "id": "lr3zXyZhCsmL"
      },
      "source": [
        "## Namespaces and imports\n",
        "* Python is very serious about maintaining orderly namespaces\n",
        "* If you want to use some code outside the current scope, you need to explicitly \"import\" it\n",
        "* Python's import system often annoys beginners, but it substantially increases code clarity\n",
        "    * Almost completely eliminates naming conflicts and confusion\n",
        "    * If you know R, consider the horrors wreaked by liberal use of `attach()`"
      ]
    },
    {
      "cell_type": "code",
      "execution_count": null,
      "metadata": {
        "id": "2sqDOz3FCsmL"
      },
      "outputs": [],
      "source": [
        "# Three different ways to import and access the defaultdict class\n",
        "from collections import defaultdict\n",
        "a = defaultdict(list)"
      ]
    },
    {
      "cell_type": "code",
      "execution_count": null,
      "metadata": {
        "id": "ApWIGxSJCsmL"
      },
      "outputs": [],
      "source": [
        "from collections import defaultdict as dd\n",
        "b = dd(list)"
      ]
    },
    {
      "cell_type": "code",
      "execution_count": null,
      "metadata": {
        "id": "sQiDFlUOCsmL"
      },
      "outputs": [],
      "source": [
        "import collections\n",
        "c = collections.defaultdict(list)"
      ]
    },
    {
      "cell_type": "code",
      "execution_count": null,
      "metadata": {
        "id": "1iXrKZxxCsmL"
      },
      "outputs": [],
      "source": [
        "# # Verify that the resulting objects are equivalent\n",
        "a == b == c"
      ]
    },
    {
      "cell_type": "markdown",
      "metadata": {
        "id": "nI3RedqICsmL"
      },
      "source": [
        "## Functions\n",
        "* A block of code that only runs when explicitly called\n",
        "* Can accept arguments (or parameters) that alter its behavior\n",
        "* Can accept any number/type of inputs, but always return a single object\n",
        "    * Note: functions can return tuples (may *look like* multiple objects)"
      ]
    },
    {
      "cell_type": "code",
      "execution_count": null,
      "metadata": {
        "id": "v3JHYnM2CsmL"
      },
      "outputs": [],
      "source": [
        "# We'll need the random module for this\n",
        "import random\n",
        "\n",
        "def add_noise(x, mu, sd):\n",
        "    ''' Adds gaussian noise to the input.\n",
        "\n",
        "    Parameters:\n",
        "        x (number): The number to add noise to\n",
        "        mu (float): The mean of the gaussian noise distribution\n",
        "        sd (float): The standard deviation of the noise distribution\n",
        "\n",
        "    Returns: A float.\n",
        "    '''\n",
        "    noise = random.normalvariate(mu, sd)\n",
        "    return (x + noise)"
      ]
    },
    {
      "cell_type": "code",
      "execution_count": null,
      "metadata": {
        "id": "bCaqdf6ACsmL"
      },
      "outputs": [],
      "source": [
        "# Let's try calling it..."
      ]
    },
    {
      "cell_type": "markdown",
      "metadata": {
        "id": "Xc_jHYkECsmL"
      },
      "source": [
        "### Positional vs. keyword arguments\n",
        "* Positional arguments are defined by position and *must* be passed\n",
        "    * Arguments in the function signature are filled in order\n",
        "* Keyword arguments have a default value\n",
        "    * Arguments can be passed in arbitrary order (after any positional arguments)"
      ]
    },
    {
      "cell_type": "code",
      "execution_count": null,
      "metadata": {
        "id": "ZgfNWU5ZCsmL"
      },
      "outputs": [],
      "source": [
        "def add_noise_with_defaults(x, mu=0, sd=1):\n",
        "    ''' Adds gaussian noise to the input.\n",
        "\n",
        "    Parameters:\n",
        "        x (number): The number to add noise to\n",
        "        mu (float): The mean of the gaussian noise distribution\n",
        "        sd (float): The standard deviation of the noise distribution\n",
        "\n",
        "    Returns: A float.\n",
        "    '''\n",
        "    noise = random.normalvariate(mu, sd)\n",
        "    return x + noise"
      ]
    },
    {
      "cell_type": "code",
      "execution_count": null,
      "metadata": {
        "id": "Xmzum7cJCsmL"
      },
      "outputs": [],
      "source": [
        "# Let's call it again"
      ]
    },
    {
      "cell_type": "markdown",
      "metadata": {
        "id": "M4QaAmumCsmL"
      },
      "source": [
        "## Classes\n",
        "* A template for a particular kind of object\n",
        "* A class defines the variables an object contains and what it can do with them\n",
        "* To illustrate, let's define a `Circle` class...\n",
        "* Note: object-oriented programming can be a bit hard to understand at first, and we're moving quickly"
      ]
    },
    {
      "cell_type": "code",
      "execution_count": 37,
      "metadata": {
        "id": "NUr3dp7ICsmL"
      },
      "outputs": [],
      "source": [
        "# We need pi!\n",
        "import math\n",
        "\n",
        "# Write a Circle class that takes a radius argument at initialization\n",
        "# and has area() and copy() instance methods that return the circle's\n",
        "# area and a copy of the circle, respectively.\n",
        "class Circle:\n",
        "    def __init__(self, radius):\n",
        "      self.radius = radius\n",
        "\n",
        "    def area(self):\n",
        "      return self.radius**2 * math.pi\n",
        "\n",
        "    def copy(self):\n",
        "      return Circle(self.radius)\n",
        "\n",
        "    def __mul__(self, arg):\n",
        "      self.radius *= arg\n",
        "      return self.area()\n",
        ""
      ]
    },
    {
      "cell_type": "code",
      "execution_count": 38,
      "metadata": {
        "id": "IV8_uYJzCsmL"
      },
      "outputs": [],
      "source": [
        "# Now let's make use of our class. First, initialize a new Circle.\n",
        "\n",
        "circle = Circle(5)"
      ]
    },
    {
      "cell_type": "code",
      "execution_count": 19,
      "metadata": {
        "colab": {
          "base_uri": "https://localhost:8080/"
        },
        "id": "Y8Cn0UdTCsmL",
        "outputId": "de5dff72-8d59-4676-ef92-16bff0981a0d"
      },
      "outputs": [
        {
          "output_type": "stream",
          "name": "stdout",
          "text": [
            "78.53981633974483\n"
          ]
        }
      ],
      "source": [
        "# Now print the circle's radius.\n",
        "print(circle.area())"
      ]
    },
    {
      "cell_type": "code",
      "execution_count": 25,
      "metadata": {
        "id": "a0DkeUDwCsmL"
      },
      "outputs": [],
      "source": [
        "# Assign a copy of the circle instance to a new variable.\n",
        "circle2 = circle.copy()"
      ]
    },
    {
      "cell_type": "markdown",
      "metadata": {
        "id": "2KKKEi8cCsmM"
      },
      "source": [
        "### Magic methods\n",
        "* Methods padded with `__` have a variety of special functions in Python\n",
        "* E.g., `__init__` and/or `__new__` are called when an object is initialized\n",
        "* All operators in Python are actually just cleverly-disguised method calls\n",
        "* E.g., the code `age_in_years * 2` is actually equivalent to `age_in_years.__mul__(2)`\n",
        "* Any object that implements the `__mul__` method can use the `*` operator"
      ]
    },
    {
      "cell_type": "code",
      "execution_count": 39,
      "metadata": {
        "colab": {
          "base_uri": "https://localhost:8080/"
        },
        "id": "-R8D-7xrCsmM",
        "outputId": "1f809a4f-7287-4bbf-9ad0-60fcdc7668d2"
      },
      "outputs": [
        {
          "output_type": "stream",
          "name": "stdout",
          "text": [
            "314.1592653589793\n"
          ]
        }
      ],
      "source": [
        "# Multiply a circle by 2 and print the resulting circle's area.\n",
        "# Note: we'll need to add a magic method for __mul__ to our Circle class.\n",
        "\n",
        "print(circle * 2)"
      ]
    },
    {
      "cell_type": "markdown",
      "metadata": {
        "id": "zfEbzi9KCsmM"
      },
      "source": [
        "## Comprehensive standard library\n",
        "* The [Python standard library](https://docs.python.org/2/library/) contains a huge number of high-quality modules\n",
        "* When in doubt, check the standard library first before you write your own tools!\n",
        "* For example:\n",
        "    * os: operating system tools\n",
        "    * re: regular expressions\n",
        "    * collections: useful data structures\n",
        "    * multiprocessing: simple parallelization tools\n",
        "    * pickle: serialization\n",
        "    * json: reading and writing JSON"
      ]
    },
    {
      "cell_type": "markdown",
      "metadata": {
        "id": "c7QcDNUiCsmM"
      },
      "source": [
        "## Exceptional external libraries\n",
        "\n",
        "* Python has very good (often best-in-class) external packages for almost everything\n",
        "* Particularly important for data science, which draws on a very broad toolkit\n",
        "* Package management is easy (conda, pip)\n",
        "* Examples:\n",
        "    * Web development: flask, Django\n",
        "    * Database ORMs: SQLAlchemy, Django ORM (w/ adapters for all major DBs)\n",
        "    * Scraping/parsing text/markup: beautifulsoup, scrapy\n",
        "    * Natural language processing (NLP): nltk, gensim, textblob\n",
        "    * Numerical computation and data analysis: numpy, scipy, pandas, xarray\n",
        "    * Machine learning: scikit-learn, Tensorflow, keras\n",
        "    * Image processing: pillow, scikit-image, OpenCV\n",
        "    * Plotting: matplotlib, seaborn, altair, ggplot, Bokeh\n",
        "    * GUI development: pyQT, wxPython\n",
        "    * Testing: py.test\n",
        "    * Etc. etc. etc."
      ]
    },
    {
      "cell_type": "markdown",
      "metadata": {
        "id": "zq4ApWy2CsmM"
      },
      "source": [
        "# The Jupyter notebook\n",
        "* \"The [Jupyter Notebook](http://jupyter.org) is a web application that allows you to create and share documents that contain live code, equations, visualizations and explanatory text.\"\n",
        "    * You can [try it online](http://jupyter.org/try)\n",
        "* Formerly the IPython Notebook\n",
        "* Supports [many different languages](https://github.com/jupyter/jupyter/wiki/Jupyter-kernels)\n",
        "* A living document wrapped around a command prompt\n",
        "* Various extensions and [widgets](http://ipywidgets.readthedocs.io/en/latest/index.html)"
      ]
    },
    {
      "cell_type": "markdown",
      "metadata": {
        "id": "XXWqixd6CsmM"
      },
      "source": [
        "# Summary\n",
        "* Python is the world's most popular dynamic programming language\n",
        "* It's increasing dominant in the world of data science\n",
        "* It's (relatively) easy to learn, performant, and has an enormous ecosystem\n",
        "* \"The second best language for everything\""
      ]
    },
    {
      "cell_type": "markdown",
      "metadata": {
        "id": "BZlCbOF7CsmM"
      },
      "source": [
        "# Resources/further reading\n",
        "\n",
        "There are hundreds of excellent resources online for learning Python and/or data science. A few good ones:\n",
        "\n",
        "* CodeAcademy offers interactive programming courses for many languages and tools, including [Python](https://www.codecademy.com/learn/python) and [git](https://www.codecademy.com/learn/learn-git)\n",
        "* [A Whirlwind Tour of Python](http://www.oreilly.com/programming/free/files/a-whirlwind-tour-of-python.pdf) is an excellent intro to Python by [Jake VanderPlas](https://staff.washington.edu/jakevdp/); Jupyter notebooks are available [here](https://github.com/jakevdp/WhirlwindTourOfPython)\n",
        "* Another excellent and free online book is Allen Downey's [\"Think Python\"](http://greenteapress.com/wp/think-python-2e/)\n",
        "* Jake Vanderplas's [Python Data Science Handbook](https://github.com/jakevdp/PythonDataScienceHandbook) is also available online as a set of notebooks\n",
        "* Kaggle maintains a nice list of [data science and Python tutorials](https://www.kaggle.com/learn/overview)"
      ]
    }
  ],
  "metadata": {
    "celltoolbar": "Slideshow",
    "kernelspec": {
      "display_name": "Python 3",
      "language": "python",
      "name": "python3"
    },
    "language_info": {
      "codemirror_mode": {
        "name": "ipython",
        "version": 3
      },
      "file_extension": ".py",
      "mimetype": "text/x-python",
      "name": "python",
      "nbconvert_exporter": "python",
      "pygments_lexer": "ipython3",
      "version": "3.7.4"
    },
    "colab": {
      "provenance": []
    }
  },
  "nbformat": 4,
  "nbformat_minor": 0
}