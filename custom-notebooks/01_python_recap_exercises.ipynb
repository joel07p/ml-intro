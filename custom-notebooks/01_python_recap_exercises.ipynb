{
  "cells": [
    {
      "cell_type": "markdown",
      "id": "3f42a171",
      "metadata": {
        "id": "3f42a171"
      },
      "source": [
        "\n",
        "# Python Basics Notebook\n",
        "\n",
        "This notebook gives a **short recap** of fundamental Python concepts,\n",
        "followed by **mini exercises** to practice them.\n",
        "\n",
        "Topics covered:\n",
        "1. For loops\n",
        "2. While loops\n",
        "3. If-else statements\n",
        "4. Dictionaries\n",
        "5. Lists\n",
        "6. Functions\n",
        "7. Classes\n",
        "\n",
        "\n",
        "Each section contains a short explanation, a code example, and an exercise.\n"
      ]
    },
    {
      "cell_type": "markdown",
      "id": "f7625093",
      "metadata": {
        "id": "f7625093"
      },
      "source": [
        "\n",
        "## 1. For Loops\n",
        "\n",
        "A `for` loop is used to iterate over a sequence (list, string, range, etc.).\n",
        "\n",
        "**Example:**\n",
        "\n",
        "```python\n",
        "for i in range(5):\n",
        "    print(i)\n",
        "```\n",
        "This prints numbers 0 through 4.\n"
      ]
    },
    {
      "cell_type": "markdown",
      "id": "bb9b392b",
      "metadata": {
        "id": "bb9b392b"
      },
      "source": [
        "**Exercise:** Print each element in the list `[10, 20, 30, 40]` using a `for` loop."
      ]
    },
    {
      "cell_type": "code",
      "execution_count": 1,
      "id": "d77123bc",
      "metadata": {
        "id": "d77123bc",
        "outputId": "0cc1902c-a20c-413a-8929-3719d9b57577",
        "colab": {
          "base_uri": "https://localhost:8080/"
        }
      },
      "outputs": [
        {
          "output_type": "stream",
          "name": "stdout",
          "text": [
            "10\n",
            "20\n",
            "30\n",
            "40\n"
          ]
        }
      ],
      "source": [
        "# Your code here\n",
        "list = [10, 20, 30, 40]\n",
        "\n",
        "for i in list:\n",
        "  print(i)"
      ]
    },
    {
      "cell_type": "markdown",
      "id": "1b41047a",
      "metadata": {
        "id": "1b41047a"
      },
      "source": [
        "\n",
        "## 2. While Loops\n",
        "\n",
        "A `while` loop repeats as long as a condition is `True`.\n",
        "\n",
        "**Example:**\n",
        "```python\n",
        "x = 0\n",
        "while x < 5:\n",
        "    print(x)\n",
        "    x += 1\n",
        "```\n",
        "This prints numbers 0 through 4.\n"
      ]
    },
    {
      "cell_type": "markdown",
      "id": "7a7008b3",
      "metadata": {
        "id": "7a7008b3"
      },
      "source": [
        "**Exercise:** Use a `while` loop to count down from 5 to 1."
      ]
    },
    {
      "cell_type": "code",
      "execution_count": 2,
      "id": "8913c95f",
      "metadata": {
        "id": "8913c95f",
        "outputId": "174bc19d-ffea-43d8-8d7c-4b2d598b8911",
        "colab": {
          "base_uri": "https://localhost:8080/"
        }
      },
      "outputs": [
        {
          "output_type": "stream",
          "name": "stdout",
          "text": [
            "5\n",
            "4\n",
            "3\n",
            "2\n",
            "1\n"
          ]
        }
      ],
      "source": [
        "# Your code here\n",
        "x = 5\n",
        "while x > 0:\n",
        "  print(x)\n",
        "  x -= 1"
      ]
    },
    {
      "cell_type": "markdown",
      "id": "88e74c45",
      "metadata": {
        "id": "88e74c45"
      },
      "source": [
        "\n",
        "## 3. If-Else Statements\n",
        "\n",
        "Conditional statements control the flow of execution.\n",
        "\n",
        "**Example:**\n",
        "```python\n",
        "x = 10\n",
        "if x > 5:\n",
        "    print(\"x is greater than 5\")\n",
        "else:\n",
        "    print(\"x is not greater than 5\")\n",
        "```\n"
      ]
    },
    {
      "cell_type": "markdown",
      "id": "c3f0a8e7",
      "metadata": {
        "id": "c3f0a8e7"
      },
      "source": [
        "**Exercise:** Write an `if-else` statement that checks if a number is even or odd."
      ]
    },
    {
      "cell_type": "code",
      "execution_count": 4,
      "id": "a75b8d87",
      "metadata": {
        "id": "a75b8d87",
        "outputId": "04c121bb-6ea4-4a3b-94cc-b41213afa47a",
        "colab": {
          "base_uri": "https://localhost:8080/"
        }
      },
      "outputs": [
        {
          "output_type": "stream",
          "name": "stdout",
          "text": [
            "False\n",
            "True\n"
          ]
        }
      ],
      "source": [
        "# Your code here\n",
        "def check_odd(num):\n",
        "  if num % 2 == 0:\n",
        "    return False\n",
        "  else:\n",
        "    return True\n",
        "\n",
        "print(check_odd(10))\n",
        "print(check_odd(5))"
      ]
    },
    {
      "cell_type": "markdown",
      "id": "a14d4174",
      "metadata": {
        "id": "a14d4174"
      },
      "source": [
        "## 4. Lists\n",
        "\n",
        "Lists store ordered collections of items.\n",
        "\n",
        "**Example:**\n",
        "```python\n",
        "fruits = [\"apple\", \"banana\", \"cherry\"]\n",
        "print(fruits[1])  # banana\n",
        "```"
      ]
    },
    {
      "cell_type": "markdown",
      "id": "4f9e50b1",
      "metadata": {
        "id": "4f9e50b1"
      },
      "source": [
        "**Exercise:** Create a list of 5 numbers and print the sum of all elements."
      ]
    },
    {
      "cell_type": "code",
      "execution_count": 5,
      "id": "ac0b58bf",
      "metadata": {
        "id": "ac0b58bf",
        "outputId": "42bf6dc8-7e65-4107-e1a3-e97310fe59da",
        "colab": {
          "base_uri": "https://localhost:8080/"
        }
      },
      "outputs": [
        {
          "output_type": "stream",
          "name": "stdout",
          "text": [
            "15\n"
          ]
        }
      ],
      "source": [
        "# Your code here\n",
        "list = [1, 2, 3, 4, 5]\n",
        "sum = 0\n",
        "\n",
        "for i in list:\n",
        "  sum += i\n",
        "\n",
        "print(sum)"
      ]
    },
    {
      "cell_type": "markdown",
      "id": "58a0bdbe",
      "metadata": {
        "id": "58a0bdbe"
      },
      "source": [
        "\n",
        "## 5. Dictionaries\n",
        "\n",
        "Dictionaries store data as key-value pairs.\n",
        "\n",
        "**Example:**\n",
        "```python\n",
        "person = {\"name\": \"Alice\", \"age\": 25}\n",
        "print(person[\"name\"])\n",
        "```\n"
      ]
    },
    {
      "cell_type": "markdown",
      "id": "0869eb21",
      "metadata": {
        "id": "0869eb21"
      },
      "source": [
        "**Exercise:** Create a dictionary for a student with keys: `name`, `age`, and `grade`. Print the grade."
      ]
    },
    {
      "cell_type": "code",
      "execution_count": 7,
      "id": "e34aa18a",
      "metadata": {
        "id": "e34aa18a",
        "outputId": "c2897f13-a3e9-4919-848b-20179f45a03d",
        "colab": {
          "base_uri": "https://localhost:8080/"
        }
      },
      "outputs": [
        {
          "output_type": "stream",
          "name": "stdout",
          "text": [
            "1\n"
          ]
        }
      ],
      "source": [
        "# Your code here\n",
        "person = {\"name\": \"Max\", \"age\": 20, \"grade\": 1}\n",
        "print(person[\"grade\"])"
      ]
    },
    {
      "cell_type": "markdown",
      "id": "0f1a9c7e",
      "metadata": {
        "id": "0f1a9c7e"
      },
      "source": [
        "\n",
        "## 6. Functions\n",
        "\n",
        "Functions group code into reusable blocks.\n",
        "\n",
        "**Example:**\n",
        "```python\n",
        "def greet(name):\n",
        "    return f\"Hello, {name}!\"\n",
        "\n",
        "print(greet(\"Alice\"))\n",
        "```\n"
      ]
    },
    {
      "cell_type": "markdown",
      "id": "3ad64ffb",
      "metadata": {
        "id": "3ad64ffb"
      },
      "source": [
        "**Exercise:** Write a function `square(n)` that returns the square of a number."
      ]
    },
    {
      "cell_type": "code",
      "execution_count": 9,
      "id": "b4f1f620",
      "metadata": {
        "id": "b4f1f620",
        "outputId": "66329318-1cae-49d1-8663-0055c82c01ab",
        "colab": {
          "base_uri": "https://localhost:8080/"
        }
      },
      "outputs": [
        {
          "output_type": "stream",
          "name": "stdout",
          "text": [
            "25\n"
          ]
        }
      ],
      "source": [
        "# Your code here\n",
        "def square(n):\n",
        "  return n**2\n",
        "\n",
        "print(square(5))"
      ]
    },
    {
      "cell_type": "markdown",
      "id": "44451240",
      "metadata": {
        "id": "44451240"
      },
      "source": [
        "\n",
        "## 7. Classes\n",
        "\n",
        "Classes define objects with attributes and methods.\n",
        "\n",
        "**Example:**\n",
        "```python\n",
        "class Dog:\n",
        "    def __init__(self, name):\n",
        "        self.name = name\n",
        "\n",
        "    def bark(self):\n",
        "        return f\"{self.name} says woof!\"\n",
        "\n",
        "dog = Dog(\"Buddy\")\n",
        "print(dog.bark())\n",
        "```\n"
      ]
    },
    {
      "cell_type": "markdown",
      "id": "9b614440",
      "metadata": {
        "id": "9b614440"
      },
      "source": [
        "**Exercise:** Create a class `Car` with attributes `brand` and `year`. Add a method `info()` that returns a string with both attributes."
      ]
    },
    {
      "cell_type": "code",
      "execution_count": 17,
      "id": "e1ace20a",
      "metadata": {
        "id": "e1ace20a",
        "outputId": "3785a2ef-52bb-4e9f-a421-8edd958a6a76",
        "colab": {
          "base_uri": "https://localhost:8080/"
        }
      },
      "outputs": [
        {
          "output_type": "stream",
          "name": "stdout",
          "text": [
            "Brand: BMW | Year: 2012\n"
          ]
        }
      ],
      "source": [
        "# Your code here\n",
        "class Car:\n",
        "  def __init__(self, brand, year):\n",
        "    self.brand = brand\n",
        "    self.year = year\n",
        "\n",
        "  def info(self):\n",
        "    return \"Brand: \" + self.brand + \" | Year: \" + str(self.year)\n",
        "\n",
        "\n",
        "car1 = Car(\"BMW\", 2012)\n",
        "\n",
        "print(car1.info())"
      ]
    }
  ],
  "metadata": {
    "language_info": {
      "name": "python"
    },
    "colab": {
      "provenance": []
    },
    "kernelspec": {
      "name": "python3",
      "display_name": "Python 3"
    }
  },
  "nbformat": 4,
  "nbformat_minor": 5
}